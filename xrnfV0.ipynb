{
 "cells": [
  {
   "cell_type": "markdown",
   "id": "585afee2",
   "metadata": {},
   "source": [
    "## Test/demonstration for generating a segment of an off-axis Fresnel Zone Plate (FZP)\n",
    "\n",
    "This notebook illustrates how to generate a segment of an off-axis zone plate, display it using a GDSII viewer, and writing the layout to a GDSII file.\n",
    "\n",
    "Grant van Riessen, La Trobe University, 2025\n",
    "\n"
   ]
  },
  {
   "cell_type": "code",
   "execution_count": null,
   "id": "a07ea385",
   "metadata": {},
   "outputs": [],
   "source": [
    "import numpy as np\n",
    "import math \n",
    "from zputils import convertUnits\n",
    "from oafzp import OAFZP"
   ]
  },
  {
   "cell_type": "markdown",
   "id": "2c7ede2b",
   "metadata": {},
   "source": [
    "### Define zone plate parameters"
   ]
  },
  {
   "cell_type": "code",
   "execution_count": null,
   "id": "e806e80f",
   "metadata": {},
   "outputs": [],
   "source": [
    "# design wavelengths \n",
    "wl_nm = [13.5, 6.70, 4.23]\n",
    "wl_m  = [convertUnits(w, 'nm') for w in wl_nm]   # Wavelength in meters\n",
    "\n",
    "# common zone plate parameters\n",
    "focalLength = convertUnits(20., 'mm')  # ZP Focal length in meters\n",
    "diameter    = convertUnits(960., 'um')    # Diameter of the ZP in meters\n",
    "aperture    = convertUnits(290., 'um')  # Aperture side length in meters"
   ]
  },
  {
   "cell_type": "markdown",
   "id": "3febcd5a",
   "metadata": {},
   "source": [
    "### Initialise and generate the ZP"
   ]
  },
  {
   "cell_type": "code",
   "execution_count": 4,
   "id": "86cb5f90",
   "metadata": {},
   "outputs": [],
   "source": [
    "# Initialise a list of Zone Plates, one for each wavelength\n",
    "fzp = [ OAFZP(w, \n",
    "            focalLength, \n",
    "            diameter,\n",
    "            apertureDim = (aperture,aperture),     # Dimensions of the photon block (width, height) in meters\n",
    "            aperturePosition = (diameter/2. - aperture/2.,0),  # Position of the photon block aperture center in meters, relative to the FZP center.\n",
    "            apertureOverlap = 0.2,  # Zones will overlap the photon block by this fraction of the aperture dimension in each direction..\n",
    "            frameScale= 1.50,     # Scale factor for the outer frame in which the FZP and photon block are contained. Relative to the PB aperture.\n",
    "            mergeInnerZones = 0,  # merge inner zones with photon block \n",
    "            gdsTolerance = 1e-5,    \n",
    "            gdsPrecision = 5e-9,\n",
    "            ) \n",
    "            for w in wl_m ]"
   ]
  },
  {
   "cell_type": "code",
   "execution_count": null,
   "id": "a89e1027",
   "metadata": {},
   "outputs": [
    {
     "data": {
      "application/vnd.jupyter.widget-view+json": {
       "model_id": "db988003ec8c433385f0130c8c928ad6",
       "version_major": 2,
       "version_minor": 0
      },
      "text/plain": [
       "  0%|          | 0/6 [00:00<?, ?it/s]"
      ]
     },
     "metadata": {},
     "output_type": "display_data"
    },
    {
     "data": {
      "application/vnd.jupyter.widget-view+json": {
       "model_id": "e5cee743835b444f890721473eeb442e",
       "version_major": 2,
       "version_minor": 0
      },
      "text/plain": [
       "  0%|          | 0/10 [00:00<?, ?it/s]"
      ]
     },
     "metadata": {},
     "output_type": "display_data"
    },
    {
     "data": {
      "application/vnd.jupyter.widget-view+json": {
       "model_id": "2c94f3ae41ec4a2f9f78fdea68c24f20",
       "version_major": 2,
       "version_minor": 0
      },
      "text/plain": [
       "  0%|          | 0/17 [00:00<?, ?it/s]"
      ]
     },
     "metadata": {},
     "output_type": "display_data"
    }
   ],
   "source": [
    "for f in fzp:\n",
    "    f.build()  # Build the zone plat"
   ]
  },
  {
   "cell_type": "markdown",
   "id": "54c61587",
   "metadata": {},
   "source": [
    "### Output ZP parameters"
   ]
  },
  {
   "cell_type": "code",
   "execution_count": 6,
   "id": "449b22c7",
   "metadata": {},
   "outputs": [
    {
     "name": "stdout",
     "output_type": "stream",
     "text": [
      "\n",
      "\n",
      "FZP for wavelength 1.3005e-06 m:\n",
      "Fresnel zone plate parameters:\n",
      "Wavelength: 1.3005e-06 m\n",
      "Focal length: 0.02 m\n",
      "Diameter: 0.00096 m\n",
      "Number of zones (full ZP): 8\n",
      "Outer zone width: 2.1187232909459825e-05 nm\n",
      "Angular range: (-1.5707963267948966, 1.5707963267948966)\n",
      "Photon block dimensions: (290000.0, 290000.0) m\n",
      "Aperture overlap: 0.2\n",
      "Scale frame: 1.5\n",
      "FZP center: (0.0003017544008429082, 0.0003017544008429082) m\n",
      "\n",
      "GDSII Tolerance: 1e-05 m\n",
      "GDSII units: 1e-09 m\n",
      "GDSII precision: 5e-09 m\n",
      "\n",
      "\n",
      "FZP for wavelength 6.707000000000001e-07 m:\n",
      "Fresnel zone plate parameters:\n",
      "Wavelength: 6.707000000000001e-07 m\n",
      "Focal length: 0.02 m\n",
      "Diameter: 0.00096 m\n",
      "Number of zones (full ZP): 17\n",
      "Outer zone width: 1.0162434538240543e-05 nm\n",
      "Angular range: (-1.5707963267948966, 1.5707963267948966)\n",
      "Photon block dimensions: (290000.0, 290000.0) m\n",
      "Aperture overlap: 0.2\n",
      "Scale frame: 1.5\n",
      "FZP center: (0.00032762904276538126, 0.00032762904276538126) m\n",
      "\n",
      "GDSII Tolerance: 1e-05 m\n",
      "GDSII units: 1e-09 m\n",
      "GDSII precision: 5e-09 m\n",
      "\n",
      "\n",
      "FZP for wavelength 4.0023000000000003e-07 m:\n",
      "Fresnel zone plate parameters:\n",
      "Wavelength: 4.0023000000000003e-07 m\n",
      "Focal length: 0.02 m\n",
      "Diameter: 0.00096 m\n",
      "Number of zones (full ZP): 28\n",
      "Outer zone width: 6.062108439585149e-06 nm\n",
      "Angular range: (-1.5707963267948966, 1.5707963267948966)\n",
      "Photon block dimensions: (290000.0, 290000.0) m\n",
      "Aperture overlap: 0.2\n",
      "Scale frame: 1.5\n",
      "FZP center: (0.00032877240386571535, 0.00032877240386571535) m\n",
      "\n",
      "GDSII Tolerance: 1e-05 m\n",
      "GDSII units: 1e-09 m\n",
      "GDSII precision: 5e-09 m\n"
     ]
    }
   ],
   "source": [
    "for f in fzp:\n",
    "    print(f\"\\n\\nFZP for wavelength { f.wavelength } m:\")\n",
    "    f.describe()  "
   ]
  },
  {
   "cell_type": "markdown",
   "id": "cef056d6",
   "metadata": {},
   "source": [
    "### Write to GDSII or SVG file"
   ]
  },
  {
   "cell_type": "code",
   "execution_count": 7,
   "id": "c421de76",
   "metadata": {},
   "outputs": [
    {
     "name": "stdout",
     "output_type": "stream",
     "text": [
      "GDS file saved as fzp1300.5nm.gds\n",
      "GDS file saved as fzp670.7nm.gds\n",
      "GDS file saved as fzp400.2nm.gds\n"
     ]
    }
   ],
   "source": [
    "for f in fzp:\n",
    "    f.writeGDS(f\"fzp{(f.wavelength*1e9):.1f}nm.gds\")  "
   ]
  }
 ],
 "metadata": {
  "kernelspec": {
   "display_name": "p39",
   "language": "python",
   "name": "python3"
  },
  "language_info": {
   "codemirror_mode": {
    "name": "ipython",
    "version": 3
   },
   "file_extension": ".py",
   "mimetype": "text/x-python",
   "name": "python",
   "nbconvert_exporter": "python",
   "pygments_lexer": "ipython3",
   "version": "3.9.16"
  }
 },
 "nbformat": 4,
 "nbformat_minor": 5
}
