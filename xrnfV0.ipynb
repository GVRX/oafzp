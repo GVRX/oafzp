{
 "cells": [
  {
   "cell_type": "markdown",
   "id": "585afee2",
   "metadata": {},
   "source": [
    "## Test/demonstration for generating a segment of an off-axis Fresnel Zone Plate (FZP)\n",
    "\n",
    "This notebook illustrates how to generate a segment of an off-axis zone plate, display it using a GDSII viewer, and writing the layout to a GDSII file.\n",
    "\n",
    "Grant van Riessen, La Trobe University, 2025\n",
    "\n"
   ]
  },
  {
   "cell_type": "code",
   "execution_count": 2,
   "id": "a07ea385",
   "metadata": {},
   "outputs": [],
   "source": [
    "import numpy as np\n",
    "import math \n",
    "from zputils import convertUnits\n",
    "from oafzp import OAFZP\n",
    "from joblib import Parallel, delayed\n"
   ]
  },
  {
   "cell_type": "markdown",
   "id": "2c7ede2b",
   "metadata": {},
   "source": [
    "### Define zone plate parameters"
   ]
  },
  {
   "cell_type": "code",
   "execution_count": 3,
   "id": "e806e80f",
   "metadata": {},
   "outputs": [],
   "source": [
    "wl_nm = [13.5, 6.70, 4.23]\n",
    "wl_m  = [convertUnits(w, 'nm') for w in wl_nm]   # Wavelength in meters\n",
    "focalLength = convertUnits(20., 'mm')  # ZP Focal length in meters\n",
    "diameter    = convertUnits(960., 'um')    # Diameter of the ZP in meters\n",
    "aperture    = convertUnits(290., 'um')  # Aperture side length in meters"
   ]
  },
  {
   "cell_type": "markdown",
   "id": "3febcd5a",
   "metadata": {},
   "source": [
    "### Initialise and generate the ZP"
   ]
  },
  {
   "cell_type": "code",
   "execution_count": 4,
   "id": "86cb5f90",
   "metadata": {},
   "outputs": [],
   "source": [
    "# Initialise the Fresnel Zone Plate\n",
    "fzp = [OAFZP(w, \n",
    "            focalLength, \n",
    "            diameter,\n",
    "            apertureDim = (aperture,aperture),     # Dimensions of the photon block (width, height) in meters\n",
    "            aperturePosition = (diameter/2. - aperture/2.,0),  # Position of the photon block aperture center in meters, relative to the FZP center.\n",
    "            apertureOverlap = 0.2,  # Zones will overlap the photon block by this fraction of the aperture dimension in each direction..\n",
    "            frameScale= 1.50,     # Scale factor for the outer frame in which the FZP and photon block are contained. Relative to the PB aperture.\n",
    "            mergeInnerZones = 0,  # merge inner zones with photon block \n",
    "            gdsTolerance = 1e-5,    \n",
    "            gdsPrecision = 5e-9,\n",
    "            ) for w in wl_m]\n"
   ]
  },
  {
   "cell_type": "code",
   "execution_count": null,
   "id": "a89e1027",
   "metadata": {},
   "outputs": [
    {
     "name": "stdout",
     "output_type": "stream",
     "text": [
      "ROI coordinates: (500194.743475, 165194.743475) to (848194.743475, 513194.743475)\n",
      "ROI coordinates: (500321.563532, 165321.563532) to (848321.563532, 513321.563532)\n",
      "ROI coordinates: (500372.573132, 165372.573132) to (848372.573132, 513372.573132)\n"
     ]
    }
   ],
   "source": [
    "\n",
    "# Build the FZP in parallel\n",
    "Parallel(n_jobs=-1)(delayed(f.build)() for f in fzp)"
   ]
  },
  {
   "cell_type": "markdown",
   "id": "54c61587",
   "metadata": {},
   "source": [
    "### Output ZP parameters"
   ]
  },
  {
   "cell_type": "code",
   "execution_count": null,
   "id": "449b22c7",
   "metadata": {},
   "outputs": [
    {
     "name": "stdout",
     "output_type": "stream",
     "text": [
      "Fresnel zone plate parameters:\n",
      "Wavelength: 1e-07 m\n",
      "Focal length: 0.02 m\n",
      "Diameter: 0.00096 m\n",
      "Number of zones (full ZP): 115\n",
      "Outer zone width: 1.4798856732854476e-06 nm\n",
      "Angular range: (-1.5707963267948966, 1.5707963267948966)\n",
      "Photon block dimensions: (290000.0, 290000.0) m\n",
      "Aperture overlap: 0.2\n",
      "Scale frame: 1.5\n",
      "FZP center: (0.0003376869704326775, 0.0003376869704326775) m\n",
      "\n",
      "GDSII Tolerance: 1e-05 m\n",
      "GDSII units: 1e-09 m\n",
      "GDSII precision: 5e-09 m\n"
     ]
    }
   ],
   "source": [
    "for f,wl_nm in zip(fzp,wl_nm)\n",
    "    print(f\"FZP for wavelength {wl_nm} nm:\")\n",
    "    fzp.describe()  "
   ]
  },
  {
   "cell_type": "markdown",
   "id": "cef056d6",
   "metadata": {},
   "source": [
    "### Write to GDSII or SVG file"
   ]
  },
  {
   "cell_type": "code",
   "execution_count": null,
   "id": "c421de76",
   "metadata": {},
   "outputs": [
    {
     "name": "stdout",
     "output_type": "stream",
     "text": [
      "GDS file saved as fzp13.5.gds\n"
     ]
    }
   ],
   "source": [
    "for f,w in zip(fzp,wl_nm}:\n",
    "    f.writeGDS(f\"fzp{w}.gds\")  # Write the GDSII file"
   ]
  },
  {
   "cell_type": "markdown",
   "id": "fb7f94cb",
   "metadata": {},
   "source": [
    "### Display the FZP in a viewer"
   ]
  },
  {
   "cell_type": "code",
   "execution_count": null,
   "id": "76944d3a",
   "metadata": {},
   "outputs": [],
   "source": [
    "fzp.display()  "
   ]
  }
 ],
 "metadata": {
  "kernelspec": {
   "display_name": "p39",
   "language": "python",
   "name": "python3"
  },
  "language_info": {
   "codemirror_mode": {
    "name": "ipython",
    "version": 3
   },
   "file_extension": ".py",
   "mimetype": "text/x-python",
   "name": "python",
   "nbconvert_exporter": "python",
   "pygments_lexer": "ipython3",
   "version": "3.9.16"
  }
 },
 "nbformat": 4,
 "nbformat_minor": 5
}
