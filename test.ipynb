{
 "cells": [
  {
   "cell_type": "markdown",
   "id": "585afee2",
   "metadata": {},
   "source": [
    "## Test/demonstration for generating a segment of an off-axis Fresnel Zone Plate (FZP)\n",
    "\n",
    "This notebook illustrates how to generate a segment of an off-axis zone plate, display it using a GDSII viewer, and writing the layout to a GDSII file.\n",
    "\n",
    "Grant van Riessen, La Trobe University, 2025\n",
    "\n"
   ]
  },
  {
   "cell_type": "code",
   "execution_count": 1,
   "id": "a07ea385",
   "metadata": {},
   "outputs": [],
   "source": [
    "import numpy as np\n",
    "import math \n",
    "from zputils import *\n",
    "from oafzp import OAFZP\n",
    "\n",
    "# define zone plate parameters\n",
    "wavelength  = convertUnits(6.70, 'nm')  # Wavelength in meters\n",
    "focalLength = convertUnits(21., 'mm')  # ZP Focal length in meters\n",
    "diameter    = convertUnits(960., 'um')    # Diameter of the ZP in meters\n",
    "aperture    = convertUnits(300., 'um')  # Aperture side length in meters"
   ]
  },
  {
   "cell_type": "markdown",
   "id": "3febcd5a",
   "metadata": {},
   "source": [
    "### Initialise and generate the ZP"
   ]
  },
  {
   "cell_type": "code",
   "execution_count": 2,
   "id": "86cb5f90",
   "metadata": {},
   "outputs": [],
   "source": [
    "# Initialise the Fresnel Zone Plate\n",
    "fzp = OAFZP(wavelength, \n",
    "            focalLength, \n",
    "            diameter,\n",
    "            apertureDim = (aperture,aperture),     # Dimensions of the photon block (width, height) in meters\n",
    "            aperturePosition = (diameter/2. - aperture/2.,0),  # Position of the photon block aperture center in meters, relative to the FZP center.\n",
    "            apertureOverlap = 0.2,  # Zones will overlap the photon block by this fraction of the aperture dimension in each direction..\n",
    "            frameScale= 1.50,     # Scale factor for the outer frame in which the FZP and photon block are contained. Relative to the PB aperture.\n",
    "            mergeInnerZones = 0,  # merge inner zones with photon block \n",
    "            gdsTolerance = 1e-5,    \n",
    "            gdsPrecision = 5e-9,\n",
    "            )\n",
    "\n",
    "#fzp.build()  # Build the FZP"
   ]
  },
  {
   "cell_type": "markdown",
   "id": "54c61587",
   "metadata": {},
   "source": [
    "### Output ZP parameters"
   ]
  },
  {
   "cell_type": "code",
   "execution_count": 3,
   "id": "449b22c7",
   "metadata": {},
   "outputs": [
    {
     "name": "stdout",
     "output_type": "stream",
     "text": [
      "Fresnel zone plate parameters:\n",
      "Wavelength: 6.7000000000000004e-09 m\n",
      "Focal length: 0.021 m\n",
      "Diameter: 0.00096 m\n",
      "Number of zones (full ZP): 1637\n",
      "Outer zone width: 1.0371634765783677e-07 nm\n",
      "Angular range: (-1.5707963267948966, 1.5707963267948966)\n",
      "Photon block dimensions: (299999.99999999994, 299999.99999999994) m\n",
      "Aperture overlap: 0.2\n",
      "Scale frame: 1.5\n",
      "FZP center: (0.0003392972693323069, 0.0003392972693323069) m\n",
      "\n",
      "GDSII Tolerance: 1e-05 m\n",
      "GDSII units: 1e-09 m\n",
      "GDSII precision: 5e-09 m\n"
     ]
    }
   ],
   "source": [
    "fzp.describe()  "
   ]
  },
  {
   "cell_type": "markdown",
   "id": "cef056d6",
   "metadata": {},
   "source": [
    "### Write to GDSII or SVG file"
   ]
  },
  {
   "cell_type": "code",
   "execution_count": null,
   "id": "c421de76",
   "metadata": {},
   "outputs": [],
   "source": [
    "fzp.writeGDS(\"fzp.gds\")  # Write the GDSII file\n",
    "#fzp.writeSVG(\"fzp.svg\")  # Write the SVG file"
   ]
  },
  {
   "cell_type": "markdown",
   "id": "fb7f94cb",
   "metadata": {},
   "source": [
    "### Display the FZP in a viewer"
   ]
  },
  {
   "cell_type": "code",
   "execution_count": null,
   "id": "76944d3a",
   "metadata": {},
   "outputs": [],
   "source": [
    "fzp.display()  "
   ]
  }
 ],
 "metadata": {
  "kernelspec": {
   "display_name": "p39",
   "language": "python",
   "name": "python3"
  },
  "language_info": {
   "codemirror_mode": {
    "name": "ipython",
    "version": 3
   },
   "file_extension": ".py",
   "mimetype": "text/x-python",
   "name": "python",
   "nbconvert_exporter": "python",
   "pygments_lexer": "ipython3",
   "version": "3.9.16"
  }
 },
 "nbformat": 4,
 "nbformat_minor": 5
}
